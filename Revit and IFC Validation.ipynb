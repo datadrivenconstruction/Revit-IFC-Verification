{
 "cells": [
  {
   "cell_type": "code",
   "execution_count": 2,
   "id": "666a7421",
   "metadata": {},
   "outputs": [
    {
     "name": "stdout",
     "output_type": "stream",
     "text": [
      "Report is ready with the name: C:\\Users\\Artem\\Desktop\\DDC\\Validation\\DDC Revit and IFC Validation_20240721_212732.xlsx\n"
     ]
    }
   ],
   "source": [
    "##################################################################################################\n",
    "\n",
    "file_path_excel = r'C:\\Users\\Artem\\Desktop\\DDC\\Validation\\DDC Revit and IFC Validation.xlsx'\n",
    "\n",
    "##################################################################################################\n",
    "\n",
    "# If you do not have pandas and openpyxl installed, install the libraries\n",
    "# pip install pandas openpyxl\n",
    "\n",
    "import os, subprocess, pandas as pd, datetime\n",
    "from openpyxl import load_workbook\n",
    "from openpyxl.styles import Alignment, PatternFill\n",
    "\n",
    "# Setting up the paths and other constants\n",
    "path_conv, file_path = pd.read_excel(file_path_excel).iloc[[2, 0], 2]\n",
    "output_file = file_path[:-4] + \"_ifc.xlsx\" if file_path.lower().endswith(\".ifc\") else file_path[:-4] + \"_rvt.xlsx\"\n",
    "output_timestamped = file_path_excel[:-5] + f\"_{datetime.datetime.now().strftime('%Y%m%d_%H%M%S')}.xlsx\"\n",
    "\n",
    "# Determine the correct exporter and data column based on the file extension\n",
    "exporter = \"IfcExporter.exe\" if file_path.lower().endswith(\".ifc\") else \"RvtExporter.exe\"\n",
    "\n",
    "# Running the conversion process and reading the resulting data\n",
    "subprocess.run([os.path.join(path_conv, exporter), file_path], cwd=path_conv, check=True)\n",
    "df = pd.read_excel(output_file)\n",
    "\n",
    "# Clean column names if they contain ':'\n",
    "if any(':' in col for col in df.columns):\n",
    "    df.columns = [col.split(' : ')[0] for col in df.columns]\n",
    "\n",
    "# Loading the workbook and setting up the worksheet for data update\n",
    "workbook = load_workbook(file_path_excel)\n",
    "sheet = workbook.active\n",
    "df_excel = pd.read_excel(file_path_excel)\n",
    "ifc_classes = df_excel['Unnamed: 1'][5:]\n",
    "properties_parameters = df_excel['Unnamed: 2'][5:]\n",
    "\n",
    "# Define color fills\n",
    "red_fill = PatternFill(start_color='FFCCCC', end_color='FFCCCC', fill_type='solid')\n",
    "green_fill = PatternFill(start_color='CCFFCC', end_color='CCFFCC', fill_type='solid')\n",
    "\n",
    "# Updating data in the Excel file\n",
    "for idx, (ifc_class, prop_param) in enumerate(zip(ifc_classes, properties_parameters), start=6):\n",
    "    if prop_param in df.columns:\n",
    "        filtered_df = df[df[\"Category\"].eq(ifc_class) & df[prop_param].notna()]\n",
    "        fill = filtered_df[prop_param].notna().mean()  # Calculate the fill percentage\n",
    "        unique_vals = filtered_df[prop_param].nunique()  # Count unique values\n",
    "        unique_list = \", \".join(filtered_df[prop_param].dropna().unique().astype(str))  # List unique values\n",
    "    else:\n",
    "        fill = 0  # Set fill percentage to 0 if column is missing\n",
    "        unique_vals = 0  # Set unique values count to 0\n",
    "        unique_list = \"\"\n",
    "\n",
    "    # Set values and formats for Excel cells\n",
    "    cell = sheet[f'D{idx+1}']\n",
    "    cell.value, cell.number_format, cell.alignment = fill, '0.00%', Alignment(horizontal='center')\n",
    "    cell.fill = green_fill if fill > 0 else red_fill\n",
    "    sheet[f'E{idx+1}'].value, sheet[f'E{idx+1}'].alignment = unique_vals, Alignment(horizontal='center')\n",
    "    sheet[f'F{idx+1}'].value, sheet[f'F{idx+1}'].alignment = unique_list, Alignment(horizontal='left')\n",
    "\n",
    "# Saving the changes back to a new timestamped Excel file\n",
    "workbook.save(output_timestamped)\n",
    "\n",
    "# Outputting a completion message with the name of the file\n",
    "print(f\"Report is ready with the name: {output_timestamped}\")"
   ]
  },
  {
   "cell_type": "code",
   "execution_count": null,
   "id": "c02d649b",
   "metadata": {},
   "outputs": [],
   "source": []
  }
 ],
 "metadata": {
  "kernelspec": {
   "display_name": "Python 3 (ipykernel)",
   "language": "python",
   "name": "python3"
  },
  "language_info": {
   "codemirror_mode": {
    "name": "ipython",
    "version": 3
   },
   "file_extension": ".py",
   "mimetype": "text/x-python",
   "name": "python",
   "nbconvert_exporter": "python",
   "pygments_lexer": "ipython3",
   "version": "3.11.4"
  }
 },
 "nbformat": 4,
 "nbformat_minor": 5
}
